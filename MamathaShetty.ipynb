{
 "cells": [
  {
   "cell_type": "code",
   "execution_count": 35,
   "id": "f8c7aeb2",
   "metadata": {
    "scrolled": true
   },
   "outputs": [
    {
     "name": "stdout",
     "output_type": "stream",
     "text": [
      "        id  member_id  loan_amnt  funded_amnt  funded_amnt_inv        term  \\\n",
      "0  1077501    1296599       5000         5000           4975.0   36 months   \n",
      "1  1077430    1314167       2500         2500           2500.0   60 months   \n",
      "2  1077175    1313524       2400         2400           2400.0   36 months   \n",
      "3  1076863    1277178      10000        10000          10000.0   36 months   \n",
      "4  1075358    1311748       3000         3000           3000.0   60 months   \n",
      "\n",
      "  int_rate  installment grade sub_grade  ... num_tl_90g_dpd_24m  \\\n",
      "0   10.65%       162.87     B        B2  ...                NaN   \n",
      "1   15.27%        59.83     C        C4  ...                NaN   \n",
      "2   15.96%        84.33     C        C5  ...                NaN   \n",
      "3   13.49%       339.31     C        C1  ...                NaN   \n",
      "4   12.69%        67.79     B        B5  ...                NaN   \n",
      "\n",
      "  num_tl_op_past_12m pct_tl_nvr_dlq  percent_bc_gt_75 pub_rec_bankruptcies  \\\n",
      "0                NaN            NaN               NaN                  0.0   \n",
      "1                NaN            NaN               NaN                  0.0   \n",
      "2                NaN            NaN               NaN                  0.0   \n",
      "3                NaN            NaN               NaN                  0.0   \n",
      "4                NaN            NaN               NaN                  0.0   \n",
      "\n",
      "  tax_liens tot_hi_cred_lim total_bal_ex_mort total_bc_limit  \\\n",
      "0       0.0             NaN               NaN            NaN   \n",
      "1       0.0             NaN               NaN            NaN   \n",
      "2       0.0             NaN               NaN            NaN   \n",
      "3       0.0             NaN               NaN            NaN   \n",
      "4       0.0             NaN               NaN            NaN   \n",
      "\n",
      "  total_il_high_credit_limit  \n",
      "0                        NaN  \n",
      "1                        NaN  \n",
      "2                        NaN  \n",
      "3                        NaN  \n",
      "4                        NaN  \n",
      "\n",
      "[5 rows x 111 columns]\n"
     ]
    },
    {
     "name": "stderr",
     "output_type": "stream",
     "text": [
      "/Users/mamathashetty/opt/anaconda3/lib/python3.8/site-packages/IPython/core/interactiveshell.py:3165: DtypeWarning: Columns (47) have mixed types.Specify dtype option on import or set low_memory=False.\n",
      "  has_raised = await self.run_ast_nodes(code_ast.body, cell_name,\n"
     ]
    }
   ],
   "source": [
    "import pandas as pd\n",
    "from matplotlib import pyplot as plt\n",
    "import numpy as np\n",
    "import seaborn as sns\n",
    "\n",
    "#Load the csv file\n",
    "df = pd.read_csv('/Users/mamathashetty/LendingClubCaseStudy/loan.csv')\n",
    "\n",
    "#print the head \n",
    "print(df.head())\n"
   ]
  },
  {
   "cell_type": "markdown",
   "metadata": {},
   "source": [
    "Drop the irrelevant columns from column no 49 i.e collections_12_mths_ex_med. All of the remaining columns are either having Null or NA or only few records have values, which cannot be used for analysis."
   ]
  },
  {
   "cell_type": "code",
   "execution_count": 36,
   "id": "ab06431f",
   "metadata": {
    "scrolled": true
   },
   "outputs": [],
   "source": [
    "df.drop(df.columns[49:], axis='columns', inplace=True)\n",
    "#drop payment, url column\n",
    "#employee length - treat n/a"
   ]
  },
  {
   "cell_type": "code",
   "execution_count": 62,
   "metadata": {},
   "outputs": [],
   "source": [
    "import seaborn as sns"
   ]
  },
  {
   "cell_type": "code",
   "execution_count": 38,
   "metadata": {},
   "outputs": [
    {
     "data": {
      "text/plain": [
       "0         Fully Paid\n",
       "1        Charged Off\n",
       "2         Fully Paid\n",
       "3         Fully Paid\n",
       "4            Current\n",
       "            ...     \n",
       "39712     Fully Paid\n",
       "39713     Fully Paid\n",
       "39714     Fully Paid\n",
       "39715     Fully Paid\n",
       "39716     Fully Paid\n",
       "Name: loan_status, Length: 39717, dtype: object"
      ]
     },
     "execution_count": 38,
     "metadata": {},
     "output_type": "execute_result"
    }
   ],
   "source": [
    "df['loan_status']"
   ]
  },
  {
   "cell_type": "code",
   "execution_count": 39,
   "id": "7eaba1a1",
   "metadata": {},
   "outputs": [],
   "source": [
    "#Convert the column value to 1 or 0 i.e if Charged off then value is 1 else 0. This will help us to do analysis in better way as well as to plot the graphs\n",
    "df['loan_status'] = df['loan_status'].apply(lambda x: 1 if (x == 'Charged Off') else 0)"
   ]
  },
  {
   "cell_type": "code",
   "execution_count": 81,
   "metadata": {},
   "outputs": [
    {
     "name": "stdout",
     "output_type": "stream",
     "text": [
      "success\n"
     ]
    }
   ],
   "source": [
    "def handle(code):\n",
    "        if code == 200:\n",
    "            print('success')\n",
    "        elif code == 404:\n",
    "            print('not found')\n",
    "        \n",
    "handle(200)"
   ]
  },
  {
   "cell_type": "code",
   "execution_count": 78,
   "metadata": {},
   "outputs": [
    {
     "ename": "SyntaxError",
     "evalue": "invalid syntax (<ipython-input-78-1e06e9896ae1>, line 2)",
     "output_type": "error",
     "traceback": [
      "\u001b[0;36m  File \u001b[0;32m\"<ipython-input-78-1e06e9896ae1>\"\u001b[0;36m, line \u001b[0;32m2\u001b[0m\n\u001b[0;31m    match code:\u001b[0m\n\u001b[0m          ^\u001b[0m\n\u001b[0;31mSyntaxError\u001b[0m\u001b[0;31m:\u001b[0m invalid syntax\n"
     ]
    }
   ],
   "source": [
    "def handle(code):\n",
    "    match code:\n",
    "        case 200:\n",
    "            print('success')\n",
    "        case 404:\n",
    "            print('not found')\n",
    "        case _:\n",
    "            print('unknown')\n",
    "handle(400)\n",
    "\n",
    "def purpose_new(x1):\n",
    "    match x1:\n",
    "        case \"debt_consolidation\":\n",
    "            return \"dc\"\n",
    "        case 'other':\n",
    "            return 'oth'\n",
    "        case 'credit_card':\n",
    "            return 'cc'\n",
    "        case 'small_business':        \n",
    "            return 'sb'\n",
    "        case 'home_improvement':        \n",
    "            return 'hi'\n",
    "        case 'major_purchase':\n",
    "            return 'mp'\n",
    "        case 'car':\n",
    "            return 'car'\n",
    "        case 'medical':\n",
    "            return 'med'\n",
    "        case 'wedding':        \n",
    "            return 'wed'\n",
    "        case 'house':        \n",
    "            return 'home'\n",
    "        case 'educational':\n",
    "            return 'edu'\n",
    "        case 'vacation':        \n",
    "            return 'vac'\n",
    "        case 'renewable_energy':        \n",
    "            return 're'\n",
    "\n",
    "df['purpose_new'] = df['purpose'].apply(lambda x: purpose_new(x))\n",
    "\n",
    "                                              "
   ]
  },
  {
   "cell_type": "code",
   "execution_count": 97,
   "metadata": {},
   "outputs": [],
   "source": [
    "def purpose_new(x):\n",
    "        if  x == \"debt_consolidation\":\n",
    "            return \"dc\"\n",
    "        elif x =='other':\n",
    "            return 'oth'\n",
    "        elif x =='credit_card':\n",
    "            return 'cc'\n",
    "        elif x =='small_business':        \n",
    "            return 'sb'\n",
    "        elif x =='home_improvement':        \n",
    "            return 'hi'\n",
    "        elif x =='major_purchase':\n",
    "            return 'mp'\n",
    "        elif x =='car':\n",
    "            return 'car'\n",
    "        elif x =='medical':\n",
    "            return 'med'\n",
    "        elif x =='wedding':        \n",
    "            return 'wed'\n",
    "        elif x =='house':        \n",
    "            return 'home'\n",
    "        elif x =='educational':\n",
    "            return 'edu'\n",
    "        elif x =='vacation':        \n",
    "            return 'vac'\n",
    "        elif x =='renewable_energy':        \n",
    "            return 're'\n",
    "        else:\n",
    "            return 'NA'\n",
    "\n",
    "df['purpose_new'] = df['purpose'].apply(lambda x: purpose_new(x))"
   ]
  },
  {
   "cell_type": "code",
   "execution_count": 92,
   "metadata": {},
   "outputs": [
    {
     "name": "stdout",
     "output_type": "stream",
     "text": [
      "<class 'pandas.core.frame.DataFrame'>\n",
      "RangeIndex: 39717 entries, 0 to 39716\n",
      "Data columns (total 50 columns):\n",
      " #   Column                   Non-Null Count  Dtype  \n",
      "---  ------                   --------------  -----  \n",
      " 0   id                       39717 non-null  int64  \n",
      " 1   member_id                39717 non-null  int64  \n",
      " 2   loan_amnt                39717 non-null  int64  \n",
      " 3   funded_amnt              39717 non-null  int64  \n",
      " 4   funded_amnt_inv          39717 non-null  float64\n",
      " 5   term                     39717 non-null  object \n",
      " 6   int_rate                 39717 non-null  object \n",
      " 7   installment              39717 non-null  float64\n",
      " 8   grade                    39717 non-null  object \n",
      " 9   sub_grade                39717 non-null  object \n",
      " 10  emp_title                37258 non-null  object \n",
      " 11  emp_length               38642 non-null  object \n",
      " 12  home_ownership           39717 non-null  object \n",
      " 13  annual_inc               39717 non-null  float64\n",
      " 14  verification_status      39717 non-null  object \n",
      " 15  issue_d                  39717 non-null  object \n",
      " 16  loan_status              39717 non-null  int64  \n",
      " 17  pymnt_plan               39717 non-null  object \n",
      " 18  url                      39717 non-null  object \n",
      " 19  desc                     26777 non-null  object \n",
      " 20  purpose                  39717 non-null  object \n",
      " 21  title                    39706 non-null  object \n",
      " 22  zip_code                 39717 non-null  object \n",
      " 23  addr_state               39717 non-null  object \n",
      " 24  dti                      39717 non-null  float64\n",
      " 25  delinq_2yrs              39717 non-null  int64  \n",
      " 26  earliest_cr_line         39717 non-null  object \n",
      " 27  inq_last_6mths           39717 non-null  int64  \n",
      " 28  mths_since_last_delinq   14035 non-null  float64\n",
      " 29  mths_since_last_record   2786 non-null   float64\n",
      " 30  open_acc                 39717 non-null  int64  \n",
      " 31  pub_rec                  39717 non-null  int64  \n",
      " 32  revol_bal                39717 non-null  int64  \n",
      " 33  revol_util               39667 non-null  object \n",
      " 34  total_acc                39717 non-null  int64  \n",
      " 35  initial_list_status      39717 non-null  object \n",
      " 36  out_prncp                39717 non-null  float64\n",
      " 37  out_prncp_inv            39717 non-null  float64\n",
      " 38  total_pymnt              39717 non-null  float64\n",
      " 39  total_pymnt_inv          39717 non-null  float64\n",
      " 40  total_rec_prncp          39717 non-null  float64\n",
      " 41  total_rec_int            39717 non-null  float64\n",
      " 42  total_rec_late_fee       39717 non-null  float64\n",
      " 43  recoveries               39717 non-null  float64\n",
      " 44  collection_recovery_fee  39717 non-null  float64\n",
      " 45  last_pymnt_d             39646 non-null  object \n",
      " 46  last_pymnt_amnt          39717 non-null  float64\n",
      " 47  next_pymnt_d             1140 non-null   object \n",
      " 48  last_credit_pull_d       39715 non-null  object \n",
      " 49  purpose_new              39134 non-null  object \n",
      "dtypes: float64(16), int64(11), object(23)\n",
      "memory usage: 15.2+ MB\n"
     ]
    }
   ],
   "source": [
    "df.info()"
   ]
  },
  {
   "cell_type": "code",
   "execution_count": null,
   "metadata": {},
   "outputs": [],
   "source": [
    "#1. Univariate Analysis on verification_status\n",
    "df_verification = df.groupby('verification_status').sum()\n",
    "df_verification = df_verification.sort_values(by=['loan_status'], ascending=False)\n",
    "print(df_verification['loan_status'])\n",
    "\n",
    "#Conclusion - This details are not enough to make any conclusion, since total number of charged off customers are spread evenly \n",
    "# on almost all types of verification status"
   ]
  },
  {
   "cell_type": "code",
   "execution_count": 52,
   "metadata": {},
   "outputs": [
    {
     "name": "stdout",
     "output_type": "stream",
     "text": [
      "purpose\n",
      "debt_consolidation    2767\n",
      "other                  633\n",
      "credit_card            542\n",
      "small_business         475\n",
      "home_improvement       347\n",
      "major_purchase         222\n",
      "car                    160\n",
      "medical                106\n",
      "wedding                 96\n",
      "moving                  92\n",
      "house                   59\n",
      "educational             56\n",
      "vacation                53\n",
      "renewable_energy        19\n",
      "Name: loan_status, dtype: int64\n"
     ]
    }
   ],
   "source": [
    "#2. Univariate Analysis on purpose\n",
    "df_verification = df.groupby('purpose').sum()\n",
    "df_verification = df_verification.sort_values(by=['loan_status'], ascending=False)\n",
    "print(df_verification['loan_status'])\n",
    "\n",
    "#Conclusion - This result gives us information that, customers who have taken loan for debt_consolidation, are mostly likely to be defaulters"
   ]
  },
  {
   "cell_type": "code",
   "execution_count": 101,
   "metadata": {},
   "outputs": [
    {
     "data": {
      "text/plain": [
       "<seaborn.axisgrid.FacetGrid at 0x7f80e5fd7100>"
      ]
     },
     "execution_count": 101,
     "metadata": {},
     "output_type": "execute_result"
    },
    {
     "data": {
      "image/png": "[encoded data removed]",
      "text/plain": [
       "<Figure size 425.125x360 with 1 Axes>"
      ]
     },
     "metadata": {
      "needs_background": "light"
     },
     "output_type": "display_data"
    }
   ],
   "source": [
    "sns.FacetGrid(df, hue='loan_status', height=5).map(sns.histplot,\"home_ownership\").add_legend()"
   ]
  },
  {
   "cell_type": "code",
   "execution_count": 56,
   "metadata": {},
   "outputs": [
    {
     "name": "stdout",
     "output_type": "stream",
     "text": [
      "home_ownership\n",
      "RENT        2839\n",
      "MORTGAGE    2327\n",
      "OWN          443\n",
      "OTHER         18\n",
      "NONE           0\n",
      "Name: loan_status, dtype: int64\n"
     ]
    }
   ],
   "source": [
    "#3. Univariate Analysis on verification_status\n",
    "df_verification = df.groupby('home_ownership').sum()\n",
    "df_verification = df_verification.sort_values(by=['loan_status'], ascending=False)\n",
    "print(df_verification['loan_status'])\n",
    "\n",
    "#Conclusion - This analysis gives us information that customers with Home ownership as Rent,Mortgage are more likely to be defaulters."
   ]
  },
  {
   "cell_type": "code",
   "execution_count": 61,
   "metadata": {},
   "outputs": [
    {
     "name": "stdout",
     "output_type": "stream",
     "text": [
      "<class 'pandas.core.frame.DataFrame'>\n",
      "RangeIndex: 39717 entries, 0 to 39716\n",
      "Data columns (total 49 columns):\n",
      " #   Column                   Non-Null Count  Dtype  \n",
      "---  ------                   --------------  -----  \n",
      " 0   id                       39717 non-null  int64  \n",
      " 1   member_id                39717 non-null  int64  \n",
      " 2   loan_amnt                39717 non-null  int64  \n",
      " 3   funded_amnt              39717 non-null  int64  \n",
      " 4   funded_amnt_inv          39717 non-null  float64\n",
      " 5   term                     39717 non-null  object \n",
      " 6   int_rate                 39717 non-null  object \n",
      " 7   installment              39717 non-null  float64\n",
      " 8   grade                    39717 non-null  object \n",
      " 9   sub_grade                39717 non-null  object \n",
      " 10  emp_title                37258 non-null  object \n",
      " 11  emp_length               38642 non-null  object \n",
      " 12  home_ownership           39717 non-null  object \n",
      " 13  annual_inc               39717 non-null  float64\n",
      " 14  verification_status      39717 non-null  object \n",
      " 15  issue_d                  39717 non-null  object \n",
      " 16  loan_status              39717 non-null  int64  \n",
      " 17  pymnt_plan               39717 non-null  object \n",
      " 18  url                      39717 non-null  object \n",
      " 19  desc                     26777 non-null  object \n",
      " 20  purpose                  39717 non-null  object \n",
      " 21  title                    39706 non-null  object \n",
      " 22  zip_code                 39717 non-null  object \n",
      " 23  addr_state               39717 non-null  object \n",
      " 24  dti                      39717 non-null  float64\n",
      " 25  delinq_2yrs              39717 non-null  int64  \n",
      " 26  earliest_cr_line         39717 non-null  object \n",
      " 27  inq_last_6mths           39717 non-null  int64  \n",
      " 28  mths_since_last_delinq   14035 non-null  float64\n",
      " 29  mths_since_last_record   2786 non-null   float64\n",
      " 30  open_acc                 39717 non-null  int64  \n",
      " 31  pub_rec                  39717 non-null  int64  \n",
      " 32  revol_bal                39717 non-null  int64  \n",
      " 33  revol_util               39667 non-null  object \n",
      " 34  total_acc                39717 non-null  int64  \n",
      " 35  initial_list_status      39717 non-null  object \n",
      " 36  out_prncp                39717 non-null  float64\n",
      " 37  out_prncp_inv            39717 non-null  float64\n",
      " 38  total_pymnt              39717 non-null  float64\n",
      " 39  total_pymnt_inv          39717 non-null  float64\n",
      " 40  total_rec_prncp          39717 non-null  float64\n",
      " 41  total_rec_int            39717 non-null  float64\n",
      " 42  total_rec_late_fee       39717 non-null  float64\n",
      " 43  recoveries               39717 non-null  float64\n",
      " 44  collection_recovery_fee  39717 non-null  float64\n",
      " 45  last_pymnt_d             39646 non-null  object \n",
      " 46  last_pymnt_amnt          39717 non-null  float64\n",
      " 47  next_pymnt_d             1140 non-null   object \n",
      " 48  last_credit_pull_d       39715 non-null  object \n",
      "dtypes: float64(16), int64(11), object(22)\n",
      "memory usage: 14.8+ MB\n",
      "None\n"
     ]
    }
   ],
   "source": [
    "print(df.info())"
   ]
  },
  {
   "cell_type": "code",
   "execution_count": 82,
   "metadata": {},
   "outputs": [
    {
     "ename": "SyntaxError",
     "evalue": "invalid syntax (<ipython-input-82-797bf804f582>, line 2)",
     "output_type": "error",
     "traceback": [
      "\u001b[0;36m  File \u001b[0;32m\"<ipython-input-82-797bf804f582>\"\u001b[0;36m, line \u001b[0;32m2\u001b[0m\n\u001b[0;31m    match code:\u001b[0m\n\u001b[0m          ^\u001b[0m\n\u001b[0;31mSyntaxError\u001b[0m\u001b[0;31m:\u001b[0m invalid syntax\n"
     ]
    }
   ],
   "source": [
    "def handle(code):\n",
    "    match code:\n",
    "        case 200:\n",
    "            print('success')\n",
    "        case 404:\n",
    "            print('not found')\n",
    "        case _:\n",
    "            print('unknown')\n",
    "handle(400)"
   ]
  },
  {
   "cell_type": "code",
   "execution_count": 59,
   "id": "d6d2617d",
   "metadata": {},
   "outputs": [
    {
     "name": "stdout",
     "output_type": "stream",
     "text": [
      "grade\n",
      "B    1425\n",
      "C    1347\n",
      "D    1118\n",
      "E     715\n",
      "A     602\n",
      "F     319\n",
      "G     101\n",
      "Name: loan_status, dtype: int64\n"
     ]
    }
   ],
   "source": [
    "#Set LoanStatus = 1 if Charged off \n",
    "#get the total charged off customers based on the Verification staus\n",
    "#df['loan_status'] = df['loan_status'].apply(lambda x: 1 if (x == 'Charged Off') else 0)\n",
    "df_verification = df.groupby('grade').sum()\n",
    "df_verification = df_verification.sort_values(by=['loan_status'], ascending=False)\n",
    "print(df_verification['loan_status'])\n",
    "\n",
    "#With the result, this cannot be used as a decision making factor since there are 50-50 chances in "
   ]
  }
 ],
 "metadata": {
  "interpreter": {
   "hash": "1a299add826c1da39b11cbc1cf9310a53762d2b9fa1b23e354064a2d9d008013"
  },
  "kernelspec": {
   "display_name": "Python 3.8.8 64-bit ('base': conda)",
   "name": "python3"
  },
  "language_info": {
   "codemirror_mode": {
    "name": "ipython",
    "version": 3
   },
   "file_extension": ".py",
   "mimetype": "text/x-python",
   "name": "python",
   "nbconvert_exporter": "python",
   "pygments_lexer": "ipython3",
   "version": "3.8.8"
  }
 },
 "nbformat": 4,
 "nbformat_minor": 5
}
